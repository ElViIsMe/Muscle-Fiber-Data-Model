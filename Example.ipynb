{
 "cells": [
  {
   "cell_type": "code",
   "execution_count": 1,
   "metadata": {},
   "outputs": [],
   "source": [
    "try:\n",
    "    import sdRDM\n",
    "except ImportError:\n",
    "    !pip install git+https://github.com/JR-1991/software-driven-rdm.git@markdown-parser-refactor"
   ]
  },
  {
   "cell_type": "code",
   "execution_count": 2,
   "metadata": {},
   "outputs": [],
   "source": [
    "from sdRDM import DataModel"
   ]
  },
  {
   "cell_type": "code",
   "execution_count": 3,
   "metadata": {},
   "outputs": [
    {
     "data": {
      "text/plain": [
       "\u001b[96mObjects\u001b[0m Root, Muscle, Measurement, Position, MuscleFiber"
      ]
     },
     "execution_count": 3,
     "metadata": {},
     "output_type": "execute_result"
    }
   ],
   "source": [
    "# Load the data model from git and generate the Python code\n",
    "# --> All objects are now stored within the variable 'lib'\n",
    "lib = DataModel.from_git('https://github.com/SimTech-Research-Data-Management/Muscle-Fiber-Data-Model.git')\n",
    "lib"
   ]
  },
  {
   "cell_type": "code",
   "execution_count": 4,
   "metadata": {},
   "outputs": [],
   "source": [
    "# Instantiate a dataset\n",
    "dataset = lib.Root()\n",
    "\n",
    "# Add a muscle\n",
    "dataset.add_to_muscles(name=\"Biceps\")"
   ]
  },
  {
   "cell_type": "code",
   "execution_count": 5,
   "metadata": {},
   "outputs": [],
   "source": [
    "# Prepare a measurement\n",
    "measurement = lib.Measurement(force=10.0, velocity=20.0)\n",
    "measurement.position = lib.Position(x=10.0, y=20.0, degree=30.0)\n",
    "\n",
    "# Add multiple live positions\n",
    "measurement.add_to_live_position(x=10.0, y=20.0, degree=30.0)\n",
    "measurement.add_to_live_position(x=20.0, y=20.0, degree=40.0)\n",
    "\n",
    "# Add a fiber state\n",
    "measurement.fiber = lib.MuscleFiber(force=10.0, length=20.0, pennation_angle=30.0)\n",
    "\n",
    "# Finally add the measurement to the dataset\n",
    "dataset.isometric_measurements.append(measurement)"
   ]
  },
  {
   "cell_type": "code",
   "execution_count": 6,
   "metadata": {},
   "outputs": [
    {
     "name": "stdout",
     "output_type": "stream",
     "text": [
      "id: root0\n",
      "muscles:\n",
      "  - id: muscle0\n",
      "    name: Biceps\n",
      "isometric_measurements:\n",
      "  - id: measurement0\n",
      "    force: 10.0\n",
      "    velocity: 20.0\n",
      "    position:\n",
      "      id: position0\n",
      "      x: 10.0\n",
      "      y: 20.0\n",
      "      degree: 30.0\n",
      "    live_position:\n",
      "      - id: position1\n",
      "        x: 10.0\n",
      "        y: 20.0\n",
      "        degree: 30.0\n",
      "      - id: position2\n",
      "        x: 20.0\n",
      "        y: 20.0\n",
      "        degree: 40.0\n",
      "    fiber:\n",
      "      id: musclefiber0\n",
      "      force: 10.0\n",
      "      length: 20.0\n",
      "      pennation_angle: 30.0\n",
      "__source__:\n",
      "  root: Root\n",
      "  repo: https://github.com/SimTech-Research-Data-Management/Muscle-Fiber-Data-Model.git\n",
      "  commit: 053a258d5d6508c753c760773f7aa02fcda8a92b\n",
      "  url: https://github.com/SimTech-Research-Data-Management/Muscle-Fiber-Data-Model/tree/053a258d5d6508c753c760773f7aa02fcda8a92b\n",
      "\n"
     ]
    }
   ],
   "source": [
    "# Inspect the resulting dataset\n",
    "print(dataset.yaml(warn=False))"
   ]
  },
  {
   "cell_type": "code",
   "execution_count": 7,
   "metadata": {},
   "outputs": [
    {
     "data": {
      "text/plain": [
       "[Position(id='position1', x=10.0, y=20.0, degree=30.0)]"
      ]
     },
     "execution_count": 7,
     "metadata": {},
     "output_type": "execute_result"
    }
   ],
   "source": [
    "# Query the dataset using paths - E.g. get all live positions where the x-coordinate is 20.0\n",
    "degree = dataset.get(\n",
    "    \"isometric_measurements/live_position\",     # Where do I want to look?\n",
    "    \"x\",                                        # Which attribute do I want to query?\n",
    "    lambda x: x < 20.0                          # Which condition do I want to apply?\n",
    ")\n",
    "degree"
   ]
  }
 ],
 "metadata": {
  "kernelspec": {
   "display_name": "sdrdm",
   "language": "python",
   "name": "python3"
  },
  "language_info": {
   "codemirror_mode": {
    "name": "ipython",
    "version": 3
   },
   "file_extension": ".py",
   "mimetype": "text/x-python",
   "name": "python",
   "nbconvert_exporter": "python",
   "pygments_lexer": "ipython3",
   "version": "3.10.9"
  },
  "orig_nbformat": 4
 },
 "nbformat": 4,
 "nbformat_minor": 2
}
